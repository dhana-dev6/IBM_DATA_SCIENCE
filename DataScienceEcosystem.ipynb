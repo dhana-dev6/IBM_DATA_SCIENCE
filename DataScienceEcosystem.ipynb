{
  "nbformat": 4,
  "nbformat_minor": 0,
  "metadata": {
    "colab": {
      "provenance": []
    },
    "kernelspec": {
      "name": "python3",
      "display_name": "Python 3"
    },
    "language_info": {
      "name": "python"
    }
  },
  "cells": [
    {
      "cell_type": "markdown",
      "source": [
        "# Data Science Tools and Ecosystem"
      ],
      "metadata": {
        "id": "Ri2UlNCj-Gxt"
      }
    },
    {
      "cell_type": "markdown",
      "source": [
        "In this notebook, Data Science Tools and Ecosystem are summarized."
      ],
      "metadata": {
        "id": "LZnPzaYx-k53"
      }
    },
    {
      "cell_type": "markdown",
      "source": [
        "Some of the commonly used languages in Data Science include:\n",
        "1. Python\n",
        "2. R\n",
        "3. SQL\n",
        "4. Julia\n",
        "5. Scala"
      ],
      "metadata": {
        "id": "U03M8wMC--LO"
      }
    },
    {
      "cell_type": "markdown",
      "source": [
        "Some of the commonly used libraries by Data Scientists include:\n",
        "1. Pandas\n",
        "2. NumPy\n",
        "3. Scikit-learn\n",
        "4. Matplotlib\n",
        "5. Seaborn\n",
        "6. TensorFlow\n",
        "7. Keras\n",
        "8. PyTorch"
      ],
      "metadata": {
        "id": "N6HW2XMp_WDP"
      }
    },
    {
      "cell_type": "markdown",
      "source": [
        "| Data Science Tools |\n",
        "|--------------------|\n",
        "| Jupyter Notebook   |\n",
        "| RStudio            |\n",
        "| Apache Zeppelin    |\n",
        "| VS Code            |\n",
        "| IBM Watson Studio  |"
      ],
      "metadata": {
        "id": "rbZfa73l_W_j"
      }
    },
    {
      "cell_type": "markdown",
      "source": [
        "### Below are a few examples of evaluating arithmetic expressions in Python."
      ],
      "metadata": {
        "id": "yZME4N3u_oSp"
      }
    },
    {
      "cell_type": "code",
      "source": [
        "# This is a simple arithmetic expression to multiply then add integers.\n",
        "(3 * 4) + 5"
      ],
      "metadata": {
        "colab": {
          "base_uri": "https://localhost:8080/"
        },
        "id": "XkV7Qz0lAFAl",
        "outputId": "a290c637-be77-4209-b044-766cadeb8300"
      },
      "execution_count": 1,
      "outputs": [
        {
          "output_type": "execute_result",
          "data": {
            "text/plain": [
              "17"
            ]
          },
          "metadata": {},
          "execution_count": 1
        }
      ]
    },
    {
      "cell_type": "code",
      "source": [
        "# This cell will convert 200 minutes to hours by dividing by 60.\n",
        "minutes = 200\n",
        "hours = minutes / 60\n",
        "print(f\"{minutes} minutes is equal to {hours} hours.\")"
      ],
      "metadata": {
        "colab": {
          "base_uri": "https://localhost:8080/"
        },
        "id": "mNY0Z-kuAIqf",
        "outputId": "feb809e9-220f-47aa-a9c8-6173a8c50c49"
      },
      "execution_count": 2,
      "outputs": [
        {
          "output_type": "stream",
          "name": "stdout",
          "text": [
            "200 minutes is equal to 3.3333333333333335 hours.\n"
          ]
        }
      ]
    },
    {
      "cell_type": "markdown",
      "source": [
        "**Objectives:**\n",
        "* List popular languages for Data Science.\n",
        "* List commonly used libraries in Data Science.\n",
        "* List open-source Data Science tools.\n",
        "* Demonstrate basic arithmetic operations in Python.\n",
        "* Convert units using Python code."
      ],
      "metadata": {
        "id": "YegBw3LMABXG"
      }
    },
    {
      "cell_type": "markdown",
      "source": [
        "## Author\n",
        "DHANASEKAR V"
      ],
      "metadata": {
        "id": "K-eqOXA-AM_h"
      }
    }
  ]
}